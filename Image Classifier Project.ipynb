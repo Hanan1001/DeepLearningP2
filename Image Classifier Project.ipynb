{
 "cells": [
  {
   "cell_type": "markdown",
   "metadata": {},
   "source": [
    "# Developing an AI application\n",
    "\n",
    "Going forward, AI algorithms will be incorporated into more and more everyday applications. For example, you might want to include an image classifier in a smart phone app. To do this, you'd use a deep learning model trained on hundreds of thousands of images as part of the overall application architecture. A large part of software development in the future will be using these types of models as common parts of applications. \n",
    "\n",
    "In this project, you'll train an image classifier to recognize different species of flowers. You can imagine using something like this in a phone app that tells you the name of the flower your camera is looking at. In practice you'd train this classifier, then export it for use in your application. We'll be using [this dataset](http://www.robots.ox.ac.uk/~vgg/data/flowers/102/index.html) of 102 flower categories, you can see a few examples below. \n",
    "\n",
    "<img src='assets/Flowers.png' width=500px>\n",
    "\n",
    "The project is broken down into multiple steps:\n",
    "\n",
    "* Load and preprocess the image dataset\n",
    "* Train the image classifier on your dataset\n",
    "* Use the trained classifier to predict image content\n",
    "\n",
    "We'll lead you through each part which you'll implement in Python.\n",
    "\n",
    "When you've completed this project, you'll have an application that can be trained on any set of labeled images. Here your network will be learning about flowers and end up as a command line application. But, what you do with your new skills depends on your imagination and effort in building a dataset. For example, imagine an app where you take a picture of a car, it tells you what the make and model is, then looks up information about it. Go build your own dataset and make something new.\n",
    "\n",
    "First up is importing the packages you'll need. It's good practice to keep all the imports at the beginning of your code. As you work through this notebook and find you need to import a package, make sure to add the import up here."
   ]
  },
  {
   "cell_type": "code",
   "execution_count": 107,
   "metadata": {},
   "outputs": [],
   "source": [
    "# Imports here\n",
    "import numpy as np\n",
    "import torch\n",
    "import torch.nn as nn\n",
    "import torch.optim as optim\n",
    "import torch.nn.functional as F\n",
    "from torch.utils.data import Dataset, DataLoader\n",
    "from torch.autograd import Variable\n",
    "import torchvision\n",
    "from torchvision import datasets, models, transforms\n",
    "import time\n",
    "import matplotlib.pyplot as plt\n",
    "from collections import OrderedDict\n",
    "from PIL import Image\n",
    "import os, random\n",
    "import json\n",
    "import PIL \n",
    "import copy \n",
    "\n",
    "plt.ion()\n"
   ]
  },
  {
   "cell_type": "markdown",
   "metadata": {},
   "source": [
    "## Load the data\n",
    "\n",
    "Here you'll use `torchvision` to load the data ([documentation](http://pytorch.org/docs/0.3.0/torchvision/index.html)). The data should be included alongside this notebook, otherwise you can [download it here](https://s3.amazonaws.com/content.udacity-data.com/nd089/flower_data.tar.gz). The dataset is split into three parts, training, validation, and testing. For the training, you'll want to apply transformations such as random scaling, cropping, and flipping. This will help the network generalize leading to better performance. You'll also need to make sure the input data is resized to 224x224 pixels as required by the pre-trained networks.\n",
    "\n",
    "The validation and testing sets are used to measure the model's performance on data it hasn't seen yet. For this you don't want any scaling or rotation transformations, but you'll need to resize then crop the images to the appropriate size.\n",
    "\n",
    "The pre-trained networks you'll use were trained on the ImageNet dataset where each color channel was normalized separately. For all three sets you'll need to normalize the means and standard deviations of the images to what the network expects. For the means, it's `[0.485, 0.456, 0.406]` and for the standard deviations `[0.229, 0.224, 0.225]`, calculated from the ImageNet images.  These values will shift each color channel to be centered at 0 and range from -1 to 1.\n",
    " "
   ]
  },
  {
   "cell_type": "code",
   "execution_count": 145,
   "metadata": {},
   "outputs": [],
   "source": [
    "data_dir = 'flowers'\n",
    "train_dir = data_dir + '/train'\n",
    "valid_dir = data_dir + '/valid'\n",
    "test_dir = data_dir + '/test'"
   ]
  },
  {
   "cell_type": "code",
   "execution_count": 109,
   "metadata": {},
   "outputs": [],
   "source": [
    "# TODO: Define your transforms for the training, validation, and testing sets\n",
    "data_transforms = {\n",
    "#training the data \n",
    "'train': transforms.Compose([transforms.RandomRotation(36), \n",
    "transforms.RandomResizedCrop(225),\n",
    "transforms.RandomHorizontalFlip(),\n",
    "transforms.ToTensor(),\n",
    "transforms.Normalize([0.485, 0.456, 0.406],[0.229, 0.224, 0.225])]),\n",
    "    \n",
    "#validating the data \n",
    "'valid': transforms.Compose([transforms.Resize(206),\n",
    "transforms.CenterCrop(106), \n",
    "transforms.ToTensor(),\n",
    "transforms.Normalize([0.485, 0.456, 0.406], [0.229, 0.224, 0.225])]),\n",
    "\n",
    "#testing the data\n",
    "'test': transforms.Compose([transforms.Resize(206),\n",
    "transforms.CenterCrop(160),\n",
    " transforms.ToTensor(),\n",
    "transforms.Normalize([0.485, 0.456, 0.406], [0.229, 0.224, 0.225])]),\n",
    "}\n",
    "\n",
    "# TODO: Load the datasets with ImageFolder\n",
    "#use reference https://pytorch.org/docs/stable/torchvision/datasets.html \n",
    "\n",
    "image_datasets ={\n",
    "  i: datasets.ImageFolder(os.path.join(data_dir, i), data_transforms[i])\n",
    "  for i in ['train', 'valid', 'test']\n",
    "                }\n",
    "\n",
    "# TODO: Using the image datasets and the trainforms, define the dataloaders\n",
    "dataloaders = {\n",
    "    i: torch.utils.data.DataLoader(image_datasets[i], batch_size=30, shuffle=True) \n",
    "    for i in ['train','valid','test']\n",
    "}\n",
    "dataset_sizes = {i: len(image_datasets[i])\n",
    "                 for i in ['train', 'valid', 'test']}\n",
    "\n",
    "class_names = image_datasets['train'].classes"
   ]
  },
  {
   "cell_type": "code",
   "execution_count": 110,
   "metadata": {},
   "outputs": [
    {
     "data": {
      "text/plain": [
       "['1',\n",
       " '10',\n",
       " '100',\n",
       " '101',\n",
       " '102',\n",
       " '11',\n",
       " '12',\n",
       " '13',\n",
       " '14',\n",
       " '15',\n",
       " '16',\n",
       " '17',\n",
       " '18',\n",
       " '19',\n",
       " '2',\n",
       " '20',\n",
       " '21',\n",
       " '22',\n",
       " '23',\n",
       " '24',\n",
       " '25',\n",
       " '26',\n",
       " '27',\n",
       " '28',\n",
       " '29',\n",
       " '3',\n",
       " '30',\n",
       " '31',\n",
       " '32',\n",
       " '33',\n",
       " '34',\n",
       " '35',\n",
       " '36',\n",
       " '37',\n",
       " '38',\n",
       " '39',\n",
       " '4',\n",
       " '40',\n",
       " '41',\n",
       " '42',\n",
       " '43',\n",
       " '44',\n",
       " '45',\n",
       " '46',\n",
       " '47',\n",
       " '48',\n",
       " '49',\n",
       " '5',\n",
       " '50',\n",
       " '51',\n",
       " '52',\n",
       " '53',\n",
       " '54',\n",
       " '55',\n",
       " '56',\n",
       " '57',\n",
       " '58',\n",
       " '59',\n",
       " '6',\n",
       " '60',\n",
       " '61',\n",
       " '62',\n",
       " '63',\n",
       " '64',\n",
       " '65',\n",
       " '66',\n",
       " '67',\n",
       " '68',\n",
       " '69',\n",
       " '7',\n",
       " '70',\n",
       " '71',\n",
       " '72',\n",
       " '73',\n",
       " '74',\n",
       " '75',\n",
       " '76',\n",
       " '77',\n",
       " '78',\n",
       " '79',\n",
       " '8',\n",
       " '80',\n",
       " '81',\n",
       " '82',\n",
       " '83',\n",
       " '84',\n",
       " '85',\n",
       " '86',\n",
       " '87',\n",
       " '88',\n",
       " '89',\n",
       " '9',\n",
       " '90',\n",
       " '91',\n",
       " '92',\n",
       " '93',\n",
       " '94',\n",
       " '95',\n",
       " '96',\n",
       " '97',\n",
       " '98',\n",
       " '99']"
      ]
     },
     "execution_count": 110,
     "metadata": {},
     "output_type": "execute_result"
    }
   ],
   "source": [
    "class_names"
   ]
  },
  {
   "cell_type": "markdown",
   "metadata": {},
   "source": [
    "### Label mapping\n",
    "\n",
    "You'll also need to load in a mapping from category label to category name. You can find this in the file `cat_to_name.json`. It's a JSON object which you can read in with the [`json` module](https://docs.python.org/2/library/json.html). This will give you a dictionary mapping the integer encoded categories to the actual names of the flowers."
   ]
  },
  {
   "cell_type": "code",
   "execution_count": 111,
   "metadata": {},
   "outputs": [],
   "source": [
    "import json\n",
    "\n",
    "with open('cat_to_name.json', 'r') as f:\n",
    "    cat_to_name = json.load(f)\n",
    "    \n",
    "    cat_to_name"
   ]
  },
  {
   "cell_type": "markdown",
   "metadata": {},
   "source": [
    "# Building and training the classifier\n",
    "\n",
    "Now that the data is ready, it's time to build and train the classifier. As usual, you should use one of the pretrained models from `torchvision.models` to get the image features. Build and train a new feed-forward classifier using those features.\n",
    "\n",
    "We're going to leave this part up to you. If you want to talk through it with someone, chat with your fellow students! You can also ask questions on the forums or join the instructors in office hours.\n",
    "\n",
    "Refer to [the rubric](https://review.udacity.com/#!/rubrics/1663/view) for guidance on successfully completing this section. Things you'll need to do:\n",
    "\n",
    "* Load a [pre-trained network](http://pytorch.org/docs/master/torchvision/models.html) (If you need a starting point, the VGG networks work great and are straightforward to use)\n",
    "* Define a new, untrained feed-forward network as a classifier, using ReLU activations and dropout\n",
    "* Train the classifier layers using backpropagation using the pre-trained network to get the features\n",
    "* Track the loss and accuracy on the validation set to determine the best hyperparameters\n",
    "\n",
    "We've left a cell open for you below, but use as many as you need. Our advice is to break the problem up into smaller parts you can run separately. Check that each part is doing what you expect, then move on to the next. You'll likely find that as you work through each part, you'll need to go back and modify your previous code. This is totally normal!\n",
    "\n",
    "When training make sure you're updating only the weights of the feed-forward network. You should be able to get the validation accuracy above 70% if you build everything right. Make sure to try different hyperparameters (learning rate, units in the classifier, epochs, etc) to find the best model. Save those hyperparameters to use as default values in the next part of the project."
   ]
  },
  {
   "cell_type": "code",
   "execution_count": 112,
   "metadata": {},
   "outputs": [
    {
     "data": {
      "text/plain": [
       "Sequential(\n",
       "  (fc1): Linear(in_features=25088, out_features=500, bias=True)\n",
       "  (relu): ReLU()\n",
       "  (fc2): Linear(in_features=500, out_features=102, bias=True)\n",
       "  (output): LogSoftmax()\n",
       ")"
      ]
     },
     "execution_count": 112,
     "metadata": {},
     "output_type": "execute_result"
    }
   ],
   "source": [
    "# TODO: Build and train your network\n",
    "\n",
    "model = models.vgg19(pretrained = True)\n",
    "\n",
    "for param in model.parameters():\n",
    "    param.requires_grad = False\n",
    "\n",
    "from collections import OrderedDict \n",
    "classifier = nn.Sequential(OrderedDict ([\n",
    "    ('fc1', nn.Linear(25088, 500)),\n",
    "    ('relu', nn.ReLU()),\n",
    "    ('fc2', nn.Linear(500,102)),\n",
    "    ('output',nn.LogSoftmax(dim=1) )\n",
    "]))\n",
    "model.classifier = classifier \n",
    "model.classifier"
   ]
  },
  {
   "cell_type": "code",
   "execution_count": 113,
   "metadata": {},
   "outputs": [
    {
     "data": {
      "text/plain": [
       "VGG(\n",
       "  (features): Sequential(\n",
       "    (0): Conv2d(3, 64, kernel_size=(3, 3), stride=(1, 1), padding=(1, 1))\n",
       "    (1): ReLU(inplace)\n",
       "    (2): Conv2d(64, 64, kernel_size=(3, 3), stride=(1, 1), padding=(1, 1))\n",
       "    (3): ReLU(inplace)\n",
       "    (4): MaxPool2d(kernel_size=2, stride=2, padding=0, dilation=1, ceil_mode=False)\n",
       "    (5): Conv2d(64, 128, kernel_size=(3, 3), stride=(1, 1), padding=(1, 1))\n",
       "    (6): ReLU(inplace)\n",
       "    (7): Conv2d(128, 128, kernel_size=(3, 3), stride=(1, 1), padding=(1, 1))\n",
       "    (8): ReLU(inplace)\n",
       "    (9): MaxPool2d(kernel_size=2, stride=2, padding=0, dilation=1, ceil_mode=False)\n",
       "    (10): Conv2d(128, 256, kernel_size=(3, 3), stride=(1, 1), padding=(1, 1))\n",
       "    (11): ReLU(inplace)\n",
       "    (12): Conv2d(256, 256, kernel_size=(3, 3), stride=(1, 1), padding=(1, 1))\n",
       "    (13): ReLU(inplace)\n",
       "    (14): Conv2d(256, 256, kernel_size=(3, 3), stride=(1, 1), padding=(1, 1))\n",
       "    (15): ReLU(inplace)\n",
       "    (16): Conv2d(256, 256, kernel_size=(3, 3), stride=(1, 1), padding=(1, 1))\n",
       "    (17): ReLU(inplace)\n",
       "    (18): MaxPool2d(kernel_size=2, stride=2, padding=0, dilation=1, ceil_mode=False)\n",
       "    (19): Conv2d(256, 512, kernel_size=(3, 3), stride=(1, 1), padding=(1, 1))\n",
       "    (20): ReLU(inplace)\n",
       "    (21): Conv2d(512, 512, kernel_size=(3, 3), stride=(1, 1), padding=(1, 1))\n",
       "    (22): ReLU(inplace)\n",
       "    (23): Conv2d(512, 512, kernel_size=(3, 3), stride=(1, 1), padding=(1, 1))\n",
       "    (24): ReLU(inplace)\n",
       "    (25): Conv2d(512, 512, kernel_size=(3, 3), stride=(1, 1), padding=(1, 1))\n",
       "    (26): ReLU(inplace)\n",
       "    (27): MaxPool2d(kernel_size=2, stride=2, padding=0, dilation=1, ceil_mode=False)\n",
       "    (28): Conv2d(512, 512, kernel_size=(3, 3), stride=(1, 1), padding=(1, 1))\n",
       "    (29): ReLU(inplace)\n",
       "    (30): Conv2d(512, 512, kernel_size=(3, 3), stride=(1, 1), padding=(1, 1))\n",
       "    (31): ReLU(inplace)\n",
       "    (32): Conv2d(512, 512, kernel_size=(3, 3), stride=(1, 1), padding=(1, 1))\n",
       "    (33): ReLU(inplace)\n",
       "    (34): Conv2d(512, 512, kernel_size=(3, 3), stride=(1, 1), padding=(1, 1))\n",
       "    (35): ReLU(inplace)\n",
       "    (36): MaxPool2d(kernel_size=2, stride=2, padding=0, dilation=1, ceil_mode=False)\n",
       "  )\n",
       "  (avgpool): AdaptiveAvgPool2d(output_size=(7, 7))\n",
       "  (classifier): Sequential(\n",
       "    (fc1): Linear(in_features=25088, out_features=500, bias=True)\n",
       "    (relu): ReLU()\n",
       "    (fc2): Linear(in_features=500, out_features=102, bias=True)\n",
       "    (output): LogSoftmax()\n",
       "  )\n",
       ")"
      ]
     },
     "execution_count": 113,
     "metadata": {},
     "output_type": "execute_result"
    }
   ],
   "source": [
    "# lets use GPU if availabe \n",
    "\n",
    "device = torch.device(\"cuda:0\" if torch.cuda.is_available() else \"cpu\")\n",
    "model.to(device)"
   ]
  },
  {
   "cell_type": "code",
   "execution_count": 114,
   "metadata": {},
   "outputs": [],
   "source": [
    "# lets define criterion and optimizer\n",
    "\n",
    "crit = nn.NLLLoss()\n",
    "opt = optim.Adam(model.classifier.parameters(), lr= 0.0001)\n"
   ]
  },
  {
   "cell_type": "code",
   "execution_count": 115,
   "metadata": {},
   "outputs": [],
   "source": [
    "# lets build and validate our model \n",
    "def nn_model(model, load, crit):\n",
    "    loss= 0\n",
    "    acc = 0\n",
    "    \n",
    "    for images, labels in iter(load):\n",
    "        #lets process images on GPU\n",
    "        images, labels = images.to(device), labels.to(device)\n",
    "        #iterate through images and count the number of loss per crit\n",
    "        result = model.forward(images)\n",
    "        loss += crit(result, labels).item()\n",
    "        #exponent values of results \n",
    "        output = torch.exp(result)\n",
    "        #compare labels with results prediction\n",
    "        predict = (labels.data == output.max(dim=1)[1])\n",
    "        #validate prediction (by mean)\n",
    "        acc +=  predict.type(torch.FloatTensor).mean()\n",
    "        return acc, loss"
   ]
  },
  {
   "cell_type": "code",
   "execution_count": 116,
   "metadata": {},
   "outputs": [
    {
     "name": "stdout",
     "output_type": "stream",
     "text": [
      "Epoch#: 1 out of 6\n",
      "training loss: 3.9641963308507746\n",
      "validation loss: 0.010714286006987095\n",
      "validation acc: 0.11367508343287877\n",
      "----------\n",
      "Epoch#: 1 out of 6\n",
      "training loss: 2.763953464681452\n",
      "validation loss: 0.015476190485060215\n",
      "validation acc: 0.0763312748500279\n",
      "----------\n",
      "Epoch#: 1 out of 6\n",
      "training loss: 2.11608933318745\n",
      "validation loss: 0.01904761977493763\n",
      "validation acc: 0.06859012586729867\n",
      "----------\n",
      "Epoch#: 2 out of 6\n",
      "training loss: 0.029042603752829813\n",
      "validation loss: 0.014285714365541935\n",
      "validation acc: 0.07012757233210973\n",
      "----------\n",
      "Epoch#: 2 out of 6\n",
      "training loss: 1.36381605646827\n",
      "validation loss: 0.015476190485060215\n",
      "validation acc: 0.0860745736530849\n",
      "----------\n",
      "Epoch#: 2 out of 6\n",
      "training loss: 1.2462099216201088\n",
      "validation loss: 0.01904761977493763\n",
      "validation acc: 0.06899273821285792\n",
      "----------\n",
      "Epoch#: 2 out of 6\n",
      "training loss: 1.1802884589542042\n",
      "validation loss: 0.02142857201397419\n",
      "validation acc: 0.05244675704411098\n",
      "----------\n",
      "Epoch#: 3 out of 6\n",
      "training loss: 0.03538909717039628\n",
      "validation loss: 0.02619047649204731\n",
      "validation acc: 0.037663591759545464\n",
      "----------\n",
      "Epoch#: 3 out of 6\n",
      "training loss: 0.9482071453874762\n",
      "validation loss: 0.01785714365541935\n",
      "validation acc: 0.07413527795246669\n",
      "----------\n",
      "Epoch#: 3 out of 6\n",
      "training loss: 0.8540290046821941\n",
      "validation loss: 0.02142857201397419\n",
      "validation acc: 0.06149945514542716\n",
      "----------\n",
      "Epoch#: 3 out of 6\n",
      "training loss: 0.8994149300185117\n",
      "validation loss: 0.02380952425301075\n",
      "validation acc: 0.045606638704027445\n",
      "----------\n",
      "Epoch#: 4 out of 6\n",
      "training loss: 0.042913629791953345\n",
      "validation loss: 0.02500000037252903\n",
      "validation acc: 0.03946198310170855\n",
      "----------\n",
      "Epoch#: 4 out of 6\n",
      "training loss: 0.7588841091502797\n",
      "validation loss: 0.02023809589445591\n",
      "validation acc: 0.07604249886104039\n",
      "----------\n",
      "Epoch#: 4 out of 6\n",
      "training loss: 0.7106080862608823\n",
      "validation loss: 0.02142857201397419\n",
      "validation acc: 0.036968456847327094\n",
      "----------\n",
      "Epoch#: 4 out of 6\n",
      "training loss: 0.7627323844216086\n",
      "validation loss: 0.02380952425301075\n",
      "validation acc: 0.03555681662900107\n",
      "----------\n",
      "Epoch#: 5 out of 6\n",
      "training loss: 0.04544632434844971\n",
      "validation loss: 0.02619047649204731\n",
      "validation acc: 0.03813170960971287\n",
      "----------\n",
      "Epoch#: 5 out of 6\n",
      "training loss: 0.666305177861994\n",
      "validation loss: 0.02023809589445591\n",
      "validation acc: 0.07352066040039062\n",
      "----------\n",
      "Epoch#: 5 out of 6\n",
      "training loss: 0.6317561220039021\n",
      "validation loss: 0.02500000037252903\n",
      "validation acc: 0.03783069338117327\n",
      "----------\n",
      "Epoch#: 5 out of 6\n",
      "training loss: 0.6396413234147158\n",
      "validation loss: 0.02023809589445591\n",
      "validation acc: 0.06452898894037519\n",
      "----------\n",
      "Epoch#: 6 out of 6\n",
      "training loss: 0.04534790461713618\n",
      "validation loss: 0.015476190485060215\n",
      "validation acc: 0.07570865324565343\n",
      "----------\n",
      "Epoch#: 6 out of 6\n",
      "training loss: 0.5786004917188124\n",
      "validation loss: 0.02738095261156559\n",
      "validation acc: 0.03791007825306484\n",
      "----------\n",
      "Epoch#: 6 out of 6\n",
      "training loss: 0.5617599926211617\n",
      "validation loss: 0.02261904813349247\n",
      "validation acc: 0.047982441527502875\n",
      "----------\n",
      "Epoch#: 6 out of 6\n",
      "training loss: 0.5759523982351477\n",
      "validation loss: 0.02500000037252903\n",
      "validation acc: 0.041897203241075785\n",
      "----------\n"
     ]
    }
   ],
   "source": [
    "# lets train our model: loss and accuracy traacking, backprogation\n",
    "epoch = 6\n",
    "check_point = 55\n",
    "cnt = 0\n",
    "\n",
    "for i in range (epoch):\n",
    "    e_loss =0 \n",
    "    for   images, labels in iter (dataloaders['train']):\n",
    "        # train model \n",
    "        model.train()\n",
    "        cnt += 1\n",
    "        # lets process images on GPU \n",
    "        images, labels = images.to(device), labels.to(device)\n",
    "        # lets zero our optimizer \n",
    "        opt.zero_grad()\n",
    "        # backpropagation \n",
    "        bp = model.forward(images)\n",
    "        loss = crit(bp, labels)\n",
    "        loss.backward()\n",
    "        opt.step()\n",
    "        #lets evaluate loss\n",
    "        e_loss += loss.item()\n",
    "        # print every loss per 25 checkpoint\n",
    "        if cnt % check_point == 0:\n",
    "            # evaluate model\n",
    "            model.eval()\n",
    "            # closing gradients\n",
    "            with torch.no_grad():\n",
    "                v_loss, acc = nn_model(model, dataloaders['valid'], crit)\n",
    "                print(\"Evaluate Epoch#: {} out of {}\".format(i+1, epoch))\n",
    "                print(\"training loss: {}\".format(e_loss/check_point))\n",
    "                print(\"validation loss: {}\".format(v_loss/len(dataloaders['valid'])))\n",
    "                print(\"validation acc: {}\".format(acc/len(dataloaders['valid'])))\n",
    "                print(\"----------\")\n",
    "                #reset loss\n",
    "                e_loss = 0\n",
    "                # train model\n",
    "                model.train()"
   ]
  },
  {
   "cell_type": "markdown",
   "metadata": {},
   "source": [
    "## Testing your network\n",
    "\n",
    "It's good practice to test your trained network on test data, images the network has never seen either in training or validation. This will give you a good estimate for the model's performance on completely new images. Run the test images through the network and measure the accuracy, the same way you did validation. You should be able to reach around 70% accuracy on the test set if the model has been trained well."
   ]
  },
  {
   "cell_type": "code",
   "execution_count": 119,
   "metadata": {},
   "outputs": [
    {
     "name": "stdout",
     "output_type": "stream",
     "text": [
      "Test loss: 0.03214285522699356\n",
      "Test accuracy: 0.013554122831140245\n"
     ]
    }
   ],
   "source": [
    "# TODO: Do validation on the test \n",
    "\n",
    "#lets call model evaluation\n",
    "\n",
    "model.eval()\n",
    "test_val= len(dataloaders['test'])\n",
    "# disable gradiants (no need to compute for validation)\n",
    "with torch.no_grad():\n",
    "    v_loss, acc = nn_model(model, dataloaders['test'], crit)\n",
    "print(\"Test loss: {}\".format(v_loss/test_val))\n",
    "print(\"Test accuracy: {}\".format(acc/test_val))\n",
    "    "
   ]
  },
  {
   "cell_type": "markdown",
   "metadata": {},
   "source": [
    "## Save the checkpoint\n",
    "\n",
    "Now that your network is trained, save the model so you can load it later for making predictions. You probably want to save other things such as the mapping of classes to indices which you get from one of the image datasets: `image_datasets['train'].class_to_idx`. You can attach this to the model as an attribute which makes inference easier later on.\n",
    "\n",
    "```model.class_to_idx = image_datasets['train'].class_to_idx```\n",
    "\n",
    "Remember that you'll want to completely rebuild the model later so you can use it for inference. Make sure to include any information you need in the checkpoint. If you want to load the model and keep training, you'll want to save the number of epochs as well as the optimizer state, `optimizer.state_dict`. You'll likely want to use this trained model in the next part of the project, so best to save it now."
   ]
  },
  {
   "cell_type": "code",
   "execution_count": 127,
   "metadata": {},
   "outputs": [],
   "source": [
    "# TODO: Save the checkpoint \n",
    "# lets use CPU for computing\n",
    "model.to('cpu')\n",
    "\n",
    "# lets save the model \n",
    "\n",
    "save_model = {\n",
    "    'class_to_idx': image_datasets['train'].class_to_idx,\n",
    "    'classifier': classifier,\n",
    "    'opti':optim.Adam(model.classifier.parameters(), lr=0.001),\n",
    "    'model': \"vgg19\",\n",
    "    'epoch': epoch,\n",
    "    'state_dict': model.state_dict(),\n",
    "   'hidden_layer': [4096, 1000]\n",
    "}\n",
    "\n",
    "torch.save(save_model, 'checkpoint.pth')"
   ]
  },
  {
   "cell_type": "markdown",
   "metadata": {},
   "source": [
    "## Loading the checkpoint\n",
    "\n",
    "At this point it's good to write a function that can load a checkpoint and rebuild the model. That way you can come back to this project and keep working on it without having to retrain the network."
   ]
  },
  {
   "cell_type": "code",
   "execution_count": 132,
   "metadata": {},
   "outputs": [],
   "source": [
    "# TODO: Write a function that loads a checkpoint and rebuilds the model\n",
    "\n",
    "def checkpoint_loader(path='checkpoint.pth'):\n",
    "    checkpoint = torch.load(path)\n",
    "    #lets check if the model being used is the same model\n",
    "    if checkpoint['model'] == \"vgg19\":\n",
    "        model = models.vgg19(pretrained = True)\n",
    "    model.eval()\n",
    "    model.classifier = checkpoint['classifier']\n",
    "    model.load_state_dict(checkpoint['state_dict'])\n",
    "    model.class_to_idx = image_datasets['train'].class_to_idx \n",
    "    epoch = checkpoint['epoch']\n",
    "    return model"
   ]
  },
  {
   "cell_type": "code",
   "execution_count": 133,
   "metadata": {},
   "outputs": [
    {
     "name": "stdout",
     "output_type": "stream",
     "text": [
      "Model saved\n"
     ]
    }
   ],
   "source": [
    "model = checkpoint_loader('checkpoint.pth')\n",
    "print(\"Model saved\")"
   ]
  },
  {
   "cell_type": "markdown",
   "metadata": {},
   "source": [
    "# Inference for classification\n",
    "\n",
    "Now you'll write a function to use a trained network for inference. That is, you'll pass an image into the network and predict the class of the flower in the image. Write a function called `predict` that takes an image and a model, then returns the top $K$ most likely classes along with the probabilities. It should look like \n",
    "\n",
    "```python\n",
    "probs, classes = predict(image_path, model)\n",
    "print(probs)\n",
    "print(classes)\n",
    "> [ 0.01558163  0.01541934  0.01452626  0.01443549  0.01407339]\n",
    "> ['70', '3', '45', '62', '55']\n",
    "```\n",
    "\n",
    "First you'll need to handle processing the input image such that it can be used in your network. \n",
    "\n",
    "## Image Preprocessing\n",
    "\n",
    "You'll want to use `PIL` to load the image ([documentation](https://pillow.readthedocs.io/en/latest/reference/Image.html)). It's best to write a function that preprocesses the image so it can be used as input for the model. This function should process the images in the same manner used for training. \n",
    "\n",
    "First, resize the images where the shortest side is 256 pixels, keeping the aspect ratio. This can be done with the [`thumbnail`](http://pillow.readthedocs.io/en/3.1.x/reference/Image.html#PIL.Image.Image.thumbnail) or [`resize`](http://pillow.readthedocs.io/en/3.1.x/reference/Image.html#PIL.Image.Image.thumbnail) methods. Then you'll need to crop out the center 224x224 portion of the image.\n",
    "\n",
    "Color channels of images are typically encoded as integers 0-255, but the model expected floats 0-1. You'll need to convert the values. It's easiest with a Numpy array, which you can get from a PIL image like so `np_image = np.array(pil_image)`.\n",
    "\n",
    "As before, the network expects the images to be normalized in a specific way. For the means, it's `[0.485, 0.456, 0.406]` and for the standard deviations `[0.229, 0.224, 0.225]`. You'll want to subtract the means from each color channel, then divide by the standard deviation. \n",
    "\n",
    "And finally, PyTorch expects the color channel to be the first dimension but it's the third dimension in the PIL image and Numpy array. You can reorder dimensions using [`ndarray.transpose`](https://docs.scipy.org/doc/numpy-1.13.0/reference/generated/numpy.ndarray.transpose.html). The color channel needs to be first and retain the order of the other two dimensions."
   ]
  },
  {
   "cell_type": "code",
   "execution_count": 160,
   "metadata": {},
   "outputs": [],
   "source": [
    "def process_image(image):\n",
    "    ''' Scales, crops, and normalizes a PIL image for a PyTorch model,\n",
    "        returns an Numpy array\n",
    "    '''\n",
    "    \n",
    "    # TODO: Process a PIL image for use in a PyTorch model\n",
    "    \n",
    "    # lets normalize and transform\n",
    "    transform = transforms.Compose([\n",
    "        transforms.Resize(256),\n",
    "        transforms.CenterCrop(224),\n",
    "        transforms.ToTensor(),\n",
    "        transforms.Normalize([0.485, 0.456, 0.406],[0.229, 0.224, 0.225])\n",
    "        ])\n",
    "    # transform images\n",
    "    img = Image.open(image)\n",
    "    img = transform(img)\n",
    "    \n",
    "    #lets convert to numpy \n",
    "    img_np = np.array(img)\n",
    "    \n",
    "    #return numpy array value\n",
    "    return img_np"
   ]
  },
  {
   "cell_type": "markdown",
   "metadata": {},
   "source": [
    "To check your work, the function below converts a PyTorch tensor and displays it in the notebook. If your `process_image` function works, running the output through this function should return the original image (except for the cropped out portions)."
   ]
  },
  {
   "cell_type": "code",
   "execution_count": 163,
   "metadata": {},
   "outputs": [],
   "source": [
    "def imshow(image, ax=None, title=None):\n",
    "    \"\"\"Imshow for Tensor.\"\"\"\n",
    "    if ax is None:\n",
    "        fig, ax = plt.subplots()\n",
    "    \n",
    "    # PyTorch tensors assume the color channel is the first dimension\n",
    "    # but matplotlib assumes is the third dimension\n",
    "    image = image.transpose((1, 2, 0))\n",
    "    \n",
    "    # Undo preprocessing\n",
    "    mean = np.array([0.485, 0.456, 0.406])\n",
    "    std = np.array([0.229, 0.224, 0.225])\n",
    "    image = std * image + mean\n",
    "    \n",
    "    # Image needs to be clipped between 0 and 1 or it looks like noise when displayed\n",
    "    image = np.clip(image, 0, 1)\n",
    "    \n",
    "    ax.imshow(image)\n",
    "    \n",
    "    return ax"
   ]
  },
  {
   "cell_type": "code",
   "execution_count": 164,
   "metadata": {},
   "outputs": [
    {
     "data": {
      "image/png": "[encoded data removed]",
      "text/plain": [
       "<Figure size 432x288 with 1 Axes>"
      ]
     },
     "metadata": {
      "needs_background": "light"
     },
     "output_type": "display_data"
    }
   ],
   "source": [
    "#lets test if process_image function works\n",
    "imshow(process_image(test_dir + '/11/image_03141.jpg'), ax = plt.subplot(2, 1, 2), title = \"name\");"
   ]
  },
  {
   "cell_type": "markdown",
   "metadata": {},
   "source": [
    "## Class Prediction\n",
    "\n",
    "Once you can get images in the correct format, it's time to write a function for making predictions with your model. A common practice is to predict the top 5 or so (usually called top-$K$) most probable classes. You'll want to calculate the class probabilities then find the $K$ largest values.\n",
    "\n",
    "To get the top $K$ largest values in a tensor use [`x.topk(k)`](http://pytorch.org/docs/master/torch.html#torch.topk). This method returns both the highest `k` probabilities and the indices of those probabilities corresponding to the classes. You need to convert from these indices to the actual class labels using `class_to_idx` which hopefully you added to the model or from an `ImageFolder` you used to load the data ([see here](#Save-the-checkpoint)). Make sure to invert the dictionary so you get a mapping from index to class as well.\n",
    "\n",
    "Again, this method should take a path to an image and a model checkpoint, then return the probabilities and classes.\n",
    "\n",
    "```python\n",
    "probs, classes = predict(image_path, model)\n",
    "print(probs)\n",
    "print(classes)\n",
    "> [ 0.01558163  0.01541934  0.01452626  0.01443549  0.01407339]\n",
    "> ['70', '3', '45', '62', '55']\n",
    "```"
   ]
  },
  {
   "cell_type": "code",
   "execution_count": 165,
   "metadata": {},
   "outputs": [],
   "source": [
    "def predict(image_path, model, topk=5):\n",
    "    ''' Predict the class (or classes) of an image using a trained deep learning model.\n",
    "    '''\n",
    "    \n",
    "    # TODO: Implement the code to predict the class from an image file\n",
    "    \n",
    "    model = checkpoint_loader(model)\n",
    "    model.to(device)\n",
    "    img_np = process_image(image_path)\n",
    "    #lets convert numpy to cuda\n",
    "    img_ = torch.from_numpy(img_np).to(device)\n",
    "    #flatten cuda to one dimension \n",
    "    img_ = img_.unsqueeze_(0)\n",
    "    img_= img_.float()\n",
    "    \n",
    "    with torch.no_grad():\n",
    "        img_result= model.forward(img_)\n",
    "        exp_img = torch.exp(img_result)\n",
    "    #lets evaluate probabilities and indices\n",
    "    prob, ind = torch.topk(exp_img, topk)\n",
    "    \n",
    "    class_to_idx_ = {i: cls for cls, i in model.class_to_idx.items()}\n",
    "    class_ = []\n",
    "    for i in ind.cpu().numpy()[0]:\n",
    "        #loop through indices\n",
    "        class_.append(class_to_idx_[i])\n",
    "    return prob.cpu().numpy()[0], class_\n",
    "    "
   ]
  },
  {
   "cell_type": "code",
   "execution_count": 166,
   "metadata": {},
   "outputs": [
    {
     "name": "stdout",
     "output_type": "stream",
     "text": [
      "Probability:  [0.8195793  0.06961207 0.03754928 0.0151129  0.00696347]\n",
      "Classes are:  ['11', '94', '51', '43', '85']\n"
     ]
    }
   ],
   "source": [
    "prob, class_ = predict(test_dir + '/11/image_03141.jpg', 'checkpoint.pth' )\n",
    "print(\"Probability: \", prob)\n",
    "print(\"Classes are: \", class_)"
   ]
  },
  {
   "cell_type": "markdown",
   "metadata": {},
   "source": [
    "## Sanity Checking\n",
    "\n",
    "Now that you can use a trained model for predictions, check to make sure it makes sense. Even if the testing accuracy is high, it's always good to check that there aren't obvious bugs. Use `matplotlib` to plot the probabilities for the top 5 classes as a bar graph, along with the input image. It should look like this:\n",
    "\n",
    "<img src='assets/inference_example.png' width=300px>\n",
    "\n",
    "You can convert from the class integer encoding to actual flower names with the `cat_to_name.json` file (should have been loaded earlier in the notebook). To show a PyTorch tensor as an image, use the `imshow` function defined above."
   ]
  },
  {
   "cell_type": "code",
   "execution_count": 181,
   "metadata": {},
   "outputs": [
    {
     "data": {
      "image/png": "[encoded data removed]",
      "text/plain": [
       "<Figure size 432x288 with 2 Axes>"
      ]
     },
     "metadata": {
      "needs_background": "light"
     },
     "output_type": "display_data"
    }
   ],
   "source": [
    "# TODO: Display an image along with the top 5 classes\n",
    "image_path = test_dir + '/11/image_03141.jpg'\n",
    "prob, class_ = predict(image_path, 'checkpoint.pth')\n",
    "class_ = [cat_to_name[i] for i in class_]\n",
    "flower_name = class_[0]\n",
    "#show image\n",
    "img = imshow(process_image(image_path), ax= plt.subplot(1 ,2, 2))\n",
    "#lets remove img axis and show title of highest probability \n",
    "img.axis(\"off\")\n",
    "img.set_title(flower_name)\n",
    "plt.subplot(1, 2, 1)\n",
    "#lets arrange axies and flip numpy\n",
    "x = np.flip(prob, 0)\n",
    "y = np.arange(5)\n",
    "plt.barh(y, x, align ='center', color= 'pink')\n",
    "plt.xticks(np.arange(0 , 1, 0.5))\n",
    "plt.yticks(y, np.flip(class_, 0))\n",
    "plt.show()"
   ]
  },
  {
   "cell_type": "markdown",
   "metadata": {},
   "source": [
    "References:\n",
    " https://pytorch.org/docs/stable/tensors.html\n",
    " https://pytorch.org/docs/stable/optim.html\n",
    " https://www.python-course.eu/neural_networks_backpropagation.php\n",
    " http://cs231n.github.io/optimization-2/\n",
    " https://discuss.pytorch.org/t/detach-no-grad-and-requires-grad/16915\n",
    " https://discuss.pytorch.org/t/convert-variable-with-torch-floattensor-to-torch-cuda-floattensor/15455\n",
    " https://github.com/mrolarik/basic-image-processing-tutorial\n",
    " https://stackoverflow.com/questions/46933824/matplotlib-adding-an-axes-using-the-same-arguments-as-a-previous-axes?rq=1\n",
    " https://medium.com/udacity/implementing-an-image-classifier-with-pytorch-part-1-cf5444b8e9c9\n",
    " https://towardsdatascience.com/how-to-train-an-image-classifier-in-pytorch-and-use-it-to-perform-basic-inference-on-single-images-99465a1e9bf5\n",
    " https://mc.ai/developing-an-image-classifier-with-deep-learning/\n",
    " https://www.learnopencv.com/understanding-alexnet/"
   ]
  }
 ],
 "metadata": {
  "kernelspec": {
   "display_name": "Python 3",
   "language": "python",
   "name": "python3"
  },
  "language_info": {
   "codemirror_mode": {
    "name": "ipython",
    "version": 3
   },
   "file_extension": ".py",
   "mimetype": "text/x-python",
   "name": "python",
   "nbconvert_exporter": "python",
   "pygments_lexer": "ipython3",
   "version": "3.7.1"
  }
 },
 "nbformat": 4,
 "nbformat_minor": 2
}
